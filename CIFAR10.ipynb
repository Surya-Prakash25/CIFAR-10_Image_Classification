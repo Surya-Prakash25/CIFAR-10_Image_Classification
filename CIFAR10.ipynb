{
 "cells": [
  {
   "cell_type": "markdown",
   "id": "97b3a148-438c-4dd6-aa2d-a9d62e34d649",
   "metadata": {},
   "source": [
    "## IMPORTING LIBRARIES"
   ]
  },
  {
   "cell_type": "code",
   "execution_count": 26,
   "id": "1dd531b2-3fbb-459d-87c0-8e603250072f",
   "metadata": {},
   "outputs": [],
   "source": [
    "import tensorflow as tf\n",
    "import pandas as pd\n",
    "import numpy as np\n",
    "import matplotlib.pyplot as plt\n",
    "from tensorflow.keras.models import load_model\n",
    "\n",
    "from sklearn.model_selection import train_test_split\n",
    "\n",
    "from keras.datasets import cifar10\n",
    "from tensorflow.keras.layers import (  \n",
    "    Conv2D, MaxPooling2D,\n",
    "    Dense, Dropout, Flatten,\n",
    "    BatchNormalization\n",
    ")\n",
    "from tensorflow.keras.models import Sequential \n",
    "\n"
   ]
  },
  {
   "cell_type": "markdown",
   "id": "13f782ff-d22a-4c1e-88ed-ecb9039e8a42",
   "metadata": {},
   "source": [
    "## SPLIT DATA"
   ]
  },
  {
   "cell_type": "code",
   "execution_count": 12,
   "id": "b8048005-7234-41d6-8611-4ae886244b70",
   "metadata": {},
   "outputs": [],
   "source": [
    "(X_train,y_train),(X_test,y_test)=cifar10.load_data()"
   ]
  },
  {
   "cell_type": "markdown",
   "id": "e6f44f98-bffe-404a-ba37-ba3adca97682",
   "metadata": {},
   "source": [
    "## PREPROCESS DATA AND VISUALIZE DATA"
   ]
  },
  {
   "cell_type": "code",
   "execution_count": 13,
   "id": "5fb650b3-9ab4-4438-897f-125e0dde4765",
   "metadata": {},
   "outputs": [
    {
     "name": "stdout",
     "output_type": "stream",
     "text": [
      "(50000, 32, 32, 3)\n",
      "(50000, 1)\n"
     ]
    }
   ],
   "source": [
    "print(X_train.shape)\n",
    "print(y_train.shape)"
   ]
  },
  {
   "cell_type": "code",
   "execution_count": 14,
   "id": "f97a7977-487f-4588-9d28-a1dda18031e3",
   "metadata": {},
   "outputs": [],
   "source": [
    "X_train = X_train/255.0\n",
    "X_test = X_test/255.0\n",
    "y_train,y_test = y_train.flatten(),y_test.flatten()"
   ]
  },
  {
   "cell_type": "code",
   "execution_count": 15,
   "id": "70d3a8da-4e7c-4a08-bb97-b28f7480e155",
   "metadata": {},
   "outputs": [
    {
     "data": {
      "text/plain": [
       "<matplotlib.image.AxesImage at 0x1e9aa247c10>"
      ]
     },
     "execution_count": 15,
     "metadata": {},
     "output_type": "execute_result"
    },
    {
     "data": {
      "image/png": "[encoded data removed]",
      "text/plain": [
       "<Figure size 300x300 with 1 Axes>"
      ]
     },
     "metadata": {},
     "output_type": "display_data"
    }
   ],
   "source": [
    "fig,axes = plt.subplots(1,1,figsize=(3,3))\n",
    "axes.imshow(X_train[120]) "
   ]
  },
  {
   "cell_type": "markdown",
   "id": "239e9634-3d15-42cc-8905-eacfb01036df",
   "metadata": {},
   "source": [
    "## DEFINE THE MODEL"
   ]
  },
  {
   "cell_type": "code",
   "execution_count": 16,
   "id": "3ca1a9cb-b8fd-4a68-a022-3a18151be568",
   "metadata": {},
   "outputs": [
    {
     "name": "stdout",
     "output_type": "stream",
     "text": [
      "Model: \"sequential_3\"\n",
      "_________________________________________________________________\n",
      " Layer (type)                Output Shape              Param #   \n",
      "=================================================================\n",
      " conv2d_15 (Conv2D)          (None, 32, 32, 64)        1792      \n",
      "                                                                 \n",
      " conv2d_16 (Conv2D)          (None, 32, 32, 64)        36928     \n",
      "                                                                 \n",
      " max_pooling2d_9 (MaxPoolin  (None, 16, 16, 64)        0         \n",
      " g2D)                                                            \n",
      "                                                                 \n",
      " batch_normalization_9 (Bat  (None, 16, 16, 64)        256       \n",
      " chNormalization)                                                \n",
      "                                                                 \n",
      " conv2d_17 (Conv2D)          (None, 16, 16, 128)       73856     \n",
      "                                                                 \n",
      " conv2d_18 (Conv2D)          (None, 16, 16, 128)       147584    \n",
      "                                                                 \n",
      " max_pooling2d_10 (MaxPooli  (None, 8, 8, 128)         0         \n",
      " ng2D)                                                           \n",
      "                                                                 \n",
      " batch_normalization_10 (Ba  (None, 8, 8, 128)         512       \n",
      " tchNormalization)                                               \n",
      "                                                                 \n",
      " conv2d_19 (Conv2D)          (None, 8, 8, 256)         295168    \n",
      "                                                                 \n",
      " max_pooling2d_11 (MaxPooli  (None, 4, 4, 256)         0         \n",
      " ng2D)                                                           \n",
      "                                                                 \n",
      " flatten_3 (Flatten)         (None, 4096)              0         \n",
      "                                                                 \n",
      " batch_normalization_11 (Ba  (None, 4096)              16384     \n",
      " tchNormalization)                                               \n",
      "                                                                 \n",
      " dense_6 (Dense)             (None, 512)               2097664   \n",
      "                                                                 \n",
      " dropout_5 (Dropout)         (None, 512)               0         \n",
      "                                                                 \n",
      " dense_7 (Dense)             (None, 10)                5130      \n",
      "                                                                 \n",
      "=================================================================\n",
      "Total params: 2675274 (10.21 MB)\n",
      "Trainable params: 2666698 (10.17 MB)\n",
      "Non-trainable params: 8576 (33.50 KB)\n",
      "_________________________________________________________________\n"
     ]
    }
   ],
   "source": [
    "model = Sequential([\n",
    "    Conv2D(filters=64, kernel_size=(3,3), activation=\"relu\", input_shape=(32, 32, 3),padding='same'),  # First convolutional layer\n",
    "    Conv2D(filters=64, kernel_size=(3,3), activation=\"relu\",padding='same'),    # Second convolutional layer\n",
    "    \n",
    "    MaxPooling2D(pool_size=(2,2)),  # First max-pooling layer\n",
    "    BatchNormalization(),   # Batch normalization\n",
    "    ##Dropout(0.3),\n",
    "    \n",
    "    Conv2D(filters=128, kernel_size=(3,3), activation=\"relu\",padding='same'),  # Third convolutional layer\n",
    "    Conv2D(filters=128, kernel_size=(3,3), activation=\"relu\",padding='same'),  # Fourth convolutional layer\n",
    "    \n",
    "    MaxPooling2D(pool_size=(2,2)),  # Second max-pooling layer\n",
    "    BatchNormalization(),           # Batch normalization\n",
    "    ##Dropout(0.4),\n",
    "    \n",
    "    Conv2D(filters=256, kernel_size=(3,3), activation=\"relu\",padding='same'),  # Fifth convolutional layer\n",
    "    MaxPooling2D(pool_size=(2,2)),  # Third max-pooling layer\n",
    "    Flatten(),                      # Flatten the output\n",
    "    BatchNormalization(),           # Batch normalization\n",
    " ##  Dropout(0.4),\n",
    "    \n",
    "    Dense(512, activation=\"relu\"),  # Fully connected layer with 512 units\n",
    "    Dropout(0.5),                   # Dropout for regularization\n",
    "    Dense(10, activation=\"softmax\") # Output layer with 10 units (one for each class)\n",
    "])\n",
    "\n",
    "# Display the model summary\n",
    "model.summary()"
   ]
  },
  {
   "cell_type": "markdown",
   "id": "e27bbb79-6ecd-4e4a-8099-590b0d666121",
   "metadata": {},
   "source": [
    "## COMPILE AND TRAIN THE MODEL"
   ]
  },
  {
   "cell_type": "code",
   "execution_count": 18,
   "id": "d1792479-62c5-4815-b6f5-c04c8e91485d",
   "metadata": {},
   "outputs": [
    {
     "name": "stdout",
     "output_type": "stream",
     "text": [
      "Epoch 1/10\n",
      "625/625 [==============================] - 246s 392ms/step - loss: 1.9270 - accuracy: 0.4717 - val_loss: 1.0720 - val_accuracy: 0.6190\n",
      "Epoch 2/10\n",
      "625/625 [==============================] - 249s 399ms/step - loss: 0.9434 - accuracy: 0.6708 - val_loss: 0.9074 - val_accuracy: 0.6801\n",
      "Epoch 3/10\n",
      "625/625 [==============================] - 250s 400ms/step - loss: 0.7656 - accuracy: 0.7341 - val_loss: 1.0104 - val_accuracy: 0.6553\n",
      "Epoch 4/10\n",
      "625/625 [==============================] - 251s 401ms/step - loss: 0.6459 - accuracy: 0.7766 - val_loss: 1.9427 - val_accuracy: 0.5132\n",
      "Epoch 5/10\n",
      "625/625 [==============================] - 256s 409ms/step - loss: 0.5549 - accuracy: 0.8073 - val_loss: 0.6977 - val_accuracy: 0.7700\n",
      "Epoch 6/10\n",
      "625/625 [==============================] - 248s 397ms/step - loss: 0.4855 - accuracy: 0.8314 - val_loss: 0.7263 - val_accuracy: 0.7688\n",
      "Epoch 7/10\n",
      "625/625 [==============================] - 249s 398ms/step - loss: 0.3996 - accuracy: 0.8612 - val_loss: 0.9184 - val_accuracy: 0.7307\n",
      "Epoch 8/10\n",
      "625/625 [==============================] - 251s 401ms/step - loss: 0.3609 - accuracy: 0.8736 - val_loss: 0.9252 - val_accuracy: 0.7438\n",
      "Epoch 9/10\n",
      "625/625 [==============================] - 248s 397ms/step - loss: 0.3124 - accuracy: 0.8921 - val_loss: 0.8593 - val_accuracy: 0.7535\n",
      "Epoch 10/10\n",
      "625/625 [==============================] - 242s 387ms/step - loss: 0.2805 - accuracy: 0.9032 - val_loss: 0.8691 - val_accuracy: 0.7627\n"
     ]
    }
   ],
   "source": [
    "model.compile(loss=\"sparse_categorical_crossentropy\", optimizer=\"adam\", metrics=[\"accuracy\"])\n",
    "\n",
    "# Train the model\n",
    "history = model.fit(\n",
    "    X_train,\n",
    "    y_train,\n",
    "    batch_size=64,\n",
    "    epochs=10,\n",
    "    validation_split=0.2,\n",
    ")"
   ]
  },
  {
   "cell_type": "markdown",
   "id": "eee23061-d02e-4675-8487-9e8e0f1d22fa",
   "metadata": {},
   "source": [
    "## MAKE PREDICTION AND VISUALIZE THE RESULT"
   ]
  },
  {
   "cell_type": "code",
   "execution_count": 23,
   "id": "d00469ba-6c28-4174-a470-ee5e5429d85e",
   "metadata": {},
   "outputs": [
    {
     "name": "stdout",
     "output_type": "stream",
     "text": [
      "1/1 [==============================] - 0s 25ms/step\n",
      "Original label is airplane and predicted label airplane\n"
     ]
    },
    {
     "data": {
      "image/png": "[encoded data removed]",
      "text/plain": [
       "<Figure size 640x480 with 1 Axes>"
      ]
     },
     "metadata": {},
     "output_type": "display_data"
    }
   ],
   "source": [
    "labels = '''airplane automobile bird cat deer dog frog horse ship truck'''.split()\n",
    "plt.imshow(X_test[10])\n",
    "n = np.array(X_test[10])\n",
    "p = n.reshape(1, 32, 32, 3)\n",
    "predicted_label =  labels[model.predict(p).argmax()]\n",
    "original_label = labels[y_test[10]]\n",
    "print(\"Original label is {} and predicted label {}\".format(original_label,predicted_label))\n"
   ]
  }
 ],
 "metadata": {
  "kernelspec": {
   "display_name": "Python 3 (ipykernel)",
   "language": "python",
   "name": "python3"
  },
  "language_info": {
   "codemirror_mode": {
    "name": "ipython",
    "version": 3
   },
   "file_extension": ".py",
   "mimetype": "text/x-python",
   "name": "python",
   "nbconvert_exporter": "python",
   "pygments_lexer": "ipython3",
   "version": "3.11.4"
  }
 },
 "nbformat": 4,
 "nbformat_minor": 5
}
